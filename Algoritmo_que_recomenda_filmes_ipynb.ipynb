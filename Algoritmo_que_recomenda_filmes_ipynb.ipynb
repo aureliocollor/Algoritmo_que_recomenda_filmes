{
  "nbformat": 4,
  "nbformat_minor": 0,
  "metadata": {
    "colab": {
      "provenance": [],
      "authorship_tag": "ABX9TyOaZKnWkAfcNbvevuAdE7zt",
      "include_colab_link": true
    },
    "kernelspec": {
      "name": "python3",
      "display_name": "Python 3"
    },
    "language_info": {
      "name": "python"
    }
  },
  "cells": [
    {
      "cell_type": "markdown",
      "metadata": {
        "id": "view-in-github",
        "colab_type": "text"
      },
      "source": [
        "<a href=\"https://colab.research.google.com/github/aureliocollor/Algoritmo_que_recomenda_filmes/blob/main/Algoritmo_que_recomenda_filmes_ipynb.ipynb\" target=\"_parent\"><img src=\"https://colab.research.google.com/assets/colab-badge.svg\" alt=\"Open In Colab\"/></a>"
      ]
    },
    {
      "cell_type": "code",
      "execution_count": 1,
      "metadata": {
        "colab": {
          "base_uri": "https://localhost:8080/"
        },
        "id": "O9u5nvP3vwjX",
        "outputId": "e3085b29-af1f-4894-9bdf-b3e4e5a45921"
      },
      "outputs": [
        {
          "output_type": "stream",
          "name": "stdout",
          "text": [
            "Filme recomendado: Capitão America\n"
          ]
        }
      ],
      "source": [
        "#Este script irá escolher um filme aleatoriamente de uma lista predefinida toda vez que a função recomendar_filme() for chamada.\n",
        "\n",
        "import random\n",
        "\n",
        "\n",
        "# Lista predefinida de filmes\n",
        "filmes = ['Capitão America', 'Joker', 'Harry Potter', 'Spider-man', 'Cavaleiro Das Trevas', 'Clube da Luta', 'Forrest Gump', 'Matrix', 'Gladiador', 'O Senhor dos Anéis']\n",
        "\n",
        "def recomendar_filme():\n",
        "    return random.choice(filmes)\n",
        "\n",
        "# Testando a função\n",
        "print('Filme recomendado:', recomendar_filme())"
      ]
    }
  ]
}